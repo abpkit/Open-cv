{
 "cells": [
  {
   "cell_type": "code",
   "execution_count": 1,
   "id": "c715a8e1",
   "metadata": {},
   "outputs": [],
   "source": [
    "import numpy as np\n",
    "import cv2"
   ]
  },
  {
   "cell_type": "markdown",
   "id": "cabc5826",
   "metadata": {},
   "source": [
    "# How to create Blank image "
   ]
  },
  {
   "cell_type": "code",
   "execution_count": 23,
   "id": "b80444bb",
   "metadata": {},
   "outputs": [
    {
     "data": {
      "text/plain": [
       "-1"
      ]
     },
     "execution_count": 23,
     "metadata": {},
     "output_type": "execute_result"
    }
   ],
   "source": [
    "blank = np.zeros((500,500,3), dtype = 'uint8')        # uint is basically a data type of image\n",
    "cv2.imshow('Blank',blank)\n",
    "cv2.waitKey(0)"
   ]
  },
  {
   "cell_type": "markdown",
   "id": "fa013d7b",
   "metadata": {},
   "source": [
    "# Paint a image with certain colour"
   ]
  },
  {
   "cell_type": "code",
   "execution_count": 3,
   "id": "13f0e035",
   "metadata": {},
   "outputs": [
    {
     "data": {
      "text/plain": [
       "-1"
      ]
     },
     "execution_count": 3,
     "metadata": {},
     "output_type": "execute_result"
    }
   ],
   "source": [
    "blank[:] = 0,255,0            # blank[:] ----> referance all pixels       (Green),   0,0,255----> Red image\n",
    "cv2.imshow('Green', blank)\n",
    "cv2.waitKey(0)"
   ]
  },
  {
   "cell_type": "markdown",
   "id": "1e378fbe",
   "metadata": {},
   "source": [
    "# To get red colour square into image (into blank image)"
   ]
  },
  {
   "cell_type": "code",
   "execution_count": 4,
   "id": "991544eb",
   "metadata": {},
   "outputs": [
    {
     "data": {
      "text/plain": [
       "-1"
      ]
     },
     "execution_count": 4,
     "metadata": {},
     "output_type": "execute_result"
    }
   ],
   "source": [
    "blank[100:200, 300:400] = 0,0,255           \n",
    "cv2.imshow('Green', blank)\n",
    "cv2.waitKey(0)"
   ]
  },
  {
   "cell_type": "markdown",
   "id": "4a0d2f80",
   "metadata": {},
   "source": [
    "# To draw rectangle"
   ]
  },
  {
   "cell_type": "code",
   "execution_count": 7,
   "id": "1fd97134",
   "metadata": {},
   "outputs": [
    {
     "data": {
      "text/plain": [
       "-1"
      ]
     },
     "execution_count": 7,
     "metadata": {},
     "output_type": "execute_result"
    }
   ],
   "source": [
    "# cv2.rectangle(img, pt1, pt2, colour, thickness = None, lineType = None, shift= None)\n",
    "cv2.rectangle(blank, (0,0), (250,250), (0,255,0), thickness = 3)\n",
    "cv2.imshow('Rectangle', blank)\n",
    "cv2.waitKey(0)"
   ]
  },
  {
   "cell_type": "code",
   "execution_count": 8,
   "id": "4d167a06",
   "metadata": {},
   "outputs": [
    {
     "data": {
      "text/plain": [
       "-1"
      ]
     },
     "execution_count": 8,
     "metadata": {},
     "output_type": "execute_result"
    }
   ],
   "source": [
    "# If we want to fill the rectangle by colour\n",
    "cv2.rectangle(blank, (0,0), (250,250), (0,255,0), thickness = cv2.FILLED)\n",
    "cv2.imshow('Rectangle', blank)\n",
    "cv2.waitKey(0)\n",
    "\n",
    "'''\n",
    "OR\n",
    "cv2.rectangle(blank, (0,0), (250,250), (0,255,0), thickness = -1)\n",
    "'''"
   ]
  },
  {
   "cell_type": "markdown",
   "id": "a2bce74b",
   "metadata": {},
   "source": [
    "# To draw a circle"
   ]
  },
  {
   "cell_type": "code",
   "execution_count": 14,
   "id": "f7a9e3ab",
   "metadata": {},
   "outputs": [
    {
     "data": {
      "text/plain": [
       "-1"
      ]
     },
     "execution_count": 14,
     "metadata": {},
     "output_type": "execute_result"
    }
   ],
   "source": [
    "# cv2.circle(img, centre, radius, color, thickness = None, lineType = None, shift = None)\n",
    "\n",
    "cv2.circle(blank, (blank.shape[1]//2, blank.shape[0]//2), 40, (0,0,255), thickness = 4)\n",
    "cv2.imshow('Circle', blank)\n",
    "cv2.waitKey(0)\n",
    "\n",
    "# (blank.shape[1]//2, blank.shape[0]//2) ----> For getting centre of blank image\n",
    "## We can fill the circle with the colour by passing thickness = -1"
   ]
  },
  {
   "cell_type": "markdown",
   "id": "7c87b3d7",
   "metadata": {},
   "source": [
    "# To draw a line"
   ]
  },
  {
   "cell_type": "code",
   "execution_count": 17,
   "id": "5aa35e82",
   "metadata": {},
   "outputs": [
    {
     "data": {
      "text/plain": [
       "-1"
      ]
     },
     "execution_count": 17,
     "metadata": {},
     "output_type": "execute_result"
    }
   ],
   "source": [
    "# line(img, pt1, pt2, color, thickness = None, lineType = None, shift = None)\n",
    "\n",
    "cv2.line(blank, (0,0), (blank.shape[1]//2, blank.shape[0]//2), (250,0,0), thickness = 4)\n",
    "cv2.imshow('Line', blank)\n",
    "cv2.waitKey(0)"
   ]
  },
  {
   "cell_type": "markdown",
   "id": "d6b0e42a",
   "metadata": {},
   "source": [
    "# How to write text on image"
   ]
  },
  {
   "cell_type": "code",
   "execution_count": 24,
   "id": "b47e1be9",
   "metadata": {},
   "outputs": [
    {
     "data": {
      "text/plain": [
       "-1"
      ]
     },
     "execution_count": 24,
     "metadata": {},
     "output_type": "execute_result"
    }
   ],
   "source": [
    "# putText(img, text, origine, fontFace, fontScale, color, thickness=None, lineType=None, bottomLeftOrigin=None)\n",
    "\n",
    "cv2.putText(blank, 'HELLO, I am Abhijt', (0,255), cv2.FONT_HERSHEY_TRIPLEX, 1.0, (0,255,0), 2)\n",
    "cv2.imshow('Text', blank)\n",
    "cv2.waitKey(0)"
   ]
  },
  {
   "cell_type": "code",
   "execution_count": null,
   "id": "a8a75674",
   "metadata": {},
   "outputs": [],
   "source": []
  }
 ],
 "metadata": {
  "kernelspec": {
   "display_name": "Python 3 (ipykernel)",
   "language": "python",
   "name": "python3"
  },
  "language_info": {
   "codemirror_mode": {
    "name": "ipython",
    "version": 3
   },
   "file_extension": ".py",
   "mimetype": "text/x-python",
   "name": "python",
   "nbconvert_exporter": "python",
   "pygments_lexer": "ipython3",
   "version": "3.8.12"
  }
 },
 "nbformat": 4,
 "nbformat_minor": 5
}
