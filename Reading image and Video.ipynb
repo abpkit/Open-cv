{
 "cells": [
  {
   "cell_type": "markdown",
   "id": "25d692a5",
   "metadata": {},
   "source": [
    "# Reading Image"
   ]
  },
  {
   "cell_type": "code",
   "execution_count": 7,
   "id": "6ffc672b",
   "metadata": {},
   "outputs": [],
   "source": [
    "import cv2"
   ]
  },
  {
   "cell_type": "code",
   "execution_count": 8,
   "id": "3382c074",
   "metadata": {},
   "outputs": [],
   "source": [
    "img = cv2.imread('G:/New folder/harry.jpg')"
   ]
  },
  {
   "cell_type": "code",
   "execution_count": 9,
   "id": "33b49e73",
   "metadata": {},
   "outputs": [],
   "source": [
    "# TO disply image\n",
    "cv2.imshow('Harry Potter', img)"
   ]
  },
  {
   "cell_type": "code",
   "execution_count": 10,
   "id": "5e445ecd",
   "metadata": {},
   "outputs": [],
   "source": [
    "cv2.waitKey(0)              # waits for infinite amount of time, until user close it, Otherwise it will takes in mS.\n",
    "cv2.destroyAllWindows()"
   ]
  },
  {
   "cell_type": "markdown",
   "id": "3bbecb0d",
   "metadata": {},
   "source": [
    "# Reading video"
   ]
  },
  {
   "cell_type": "code",
   "execution_count": 12,
   "id": "64b35709",
   "metadata": {},
   "outputs": [
    {
     "ename": "error",
     "evalue": "OpenCV(4.0.1) C:\\ci\\opencv-suite_1573470242804\\work\\modules\\highgui\\src\\window.cpp:352: error: (-215:Assertion failed) size.width>0 && size.height>0 in function 'cv::imshow'\n",
     "output_type": "error",
     "traceback": [
      "\u001b[1;31m---------------------------------------------------------------------------\u001b[0m",
      "\u001b[1;31merror\u001b[0m                                     Traceback (most recent call last)",
      "\u001b[1;32m~\\AppData\\Local\\Temp/ipykernel_36380/2388765895.py\u001b[0m in \u001b[0;36m<module>\u001b[1;34m\u001b[0m\n\u001b[0;32m      5\u001b[0m \u001b[1;32mwhile\u001b[0m \u001b[1;32mTrue\u001b[0m\u001b[1;33m:\u001b[0m\u001b[1;33m\u001b[0m\u001b[1;33m\u001b[0m\u001b[0m\n\u001b[0;32m      6\u001b[0m     \u001b[0misTrue\u001b[0m\u001b[1;33m,\u001b[0m \u001b[0mframe\u001b[0m \u001b[1;33m=\u001b[0m \u001b[0mcapture\u001b[0m\u001b[1;33m.\u001b[0m\u001b[0mread\u001b[0m\u001b[1;33m(\u001b[0m\u001b[1;33m)\u001b[0m   \u001b[1;31m# capture.read---->To Read video frame by frame.\u001b[0m\u001b[1;33m\u001b[0m\u001b[1;33m\u001b[0m\u001b[0m\n\u001b[1;32m----> 7\u001b[1;33m     \u001b[0mcv2\u001b[0m\u001b[1;33m.\u001b[0m\u001b[0mimshow\u001b[0m\u001b[1;33m(\u001b[0m\u001b[1;34m'Video'\u001b[0m\u001b[1;33m,\u001b[0m \u001b[0mframe\u001b[0m\u001b[1;33m)\u001b[0m      \u001b[1;31m# isTrue ----> Boolean, that sees wheather the frame is reading successfully or not\u001b[0m\u001b[1;33m\u001b[0m\u001b[1;33m\u001b[0m\u001b[0m\n\u001b[0m\u001b[0;32m      8\u001b[0m                                     \u001b[1;31m# cv2.imshow--->To display the video we will show individual frames.\u001b[0m\u001b[1;33m\u001b[0m\u001b[1;33m\u001b[0m\u001b[1;33m\u001b[0m\u001b[0m\n\u001b[0;32m      9\u001b[0m     \u001b[1;32mif\u001b[0m \u001b[0mcv2\u001b[0m\u001b[1;33m.\u001b[0m\u001b[0mwaitKey\u001b[0m\u001b[1;33m(\u001b[0m\u001b[1;36m20\u001b[0m\u001b[1;33m)\u001b[0m \u001b[1;33m&\u001b[0m \u001b[1;36m0xFF\u001b[0m\u001b[1;33m==\u001b[0m\u001b[0mord\u001b[0m\u001b[1;33m(\u001b[0m\u001b[1;34m'd'\u001b[0m\u001b[1;33m)\u001b[0m\u001b[1;33m:\u001b[0m   \u001b[1;31m# if we have to stop the video in between, press letter 'd'\u001b[0m\u001b[1;33m\u001b[0m\u001b[1;33m\u001b[0m\u001b[0m\n",
      "\u001b[1;31merror\u001b[0m: OpenCV(4.0.1) C:\\ci\\opencv-suite_1573470242804\\work\\modules\\highgui\\src\\window.cpp:352: error: (-215:Assertion failed) size.width>0 && size.height>0 in function 'cv::imshow'\n"
     ]
    }
   ],
   "source": [
    "# Create variable capture and store frames of videos in it\n",
    "capture = cv2.VideoCapture('G:/Redmi Note4/Dil_Hai_Chota_Sa.mp4')  #This () takes argument as either 0,1,2,.. OR path of video\n",
    "\n",
    "# For reading video we use while loop to read frame by frame\n",
    "while True:\n",
    "    isTrue, frame = capture.read()   # capture.read---->To Read video frame by frame.\n",
    "    cv2.imshow('Video', frame)      # isTrue ----> Boolean, that sees wheather the frame is reading successfully or not\n",
    "                                    # cv2.imshow--->To display the video we will show individual frames.\n",
    "    if cv2.waitKey(20) & 0xFF==ord('d'):   # if we have to stop the video in between, press letter 'd'\n",
    "        break\n",
    "\n",
    "capture.release()\n",
    "cv2.destroyAllWindows()"
   ]
  },
  {
   "cell_type": "code",
   "execution_count": null,
   "id": "58ca4487",
   "metadata": {},
   "outputs": [],
   "source": [
    "When video get stops we get the follwing error\n",
    "error: (-215:Assertion failed)\n",
    "    This error shows that Open CV could not find the image or Video frame at particular location it could not be reading\n",
    "    At the end of the video there will not be any frame thats why this error shown"
   ]
  },
  {
   "cell_type": "code",
   "execution_count": null,
   "id": "71805c8e",
   "metadata": {},
   "outputs": [],
   "source": []
  }
 ],
 "metadata": {
  "kernelspec": {
   "display_name": "Python 3 (ipykernel)",
   "language": "python",
   "name": "python3"
  },
  "language_info": {
   "codemirror_mode": {
    "name": "ipython",
    "version": 3
   },
   "file_extension": ".py",
   "mimetype": "text/x-python",
   "name": "python",
   "nbconvert_exporter": "python",
   "pygments_lexer": "ipython3",
   "version": "3.8.12"
  }
 },
 "nbformat": 4,
 "nbformat_minor": 5
}
