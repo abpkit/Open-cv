{
 "cells": [
  {
   "cell_type": "markdown",
   "id": "d3584bed",
   "metadata": {},
   "source": [
    "# Converting image to gray scale"
   ]
  },
  {
   "cell_type": "code",
   "execution_count": 1,
   "id": "de4d9544",
   "metadata": {},
   "outputs": [],
   "source": [
    "import cv2"
   ]
  },
  {
   "cell_type": "code",
   "execution_count": 4,
   "id": "90012bfd",
   "metadata": {},
   "outputs": [
    {
     "data": {
      "text/plain": [
       "-1"
      ]
     },
     "execution_count": 4,
     "metadata": {},
     "output_type": "execute_result"
    }
   ],
   "source": [
    "img = cv2.imread('G:/New folder/john.jpg')\n",
    "cv2.imshow('Harry Potter',img)\n",
    "cv2.waitKey(0)"
   ]
  },
  {
   "cell_type": "code",
   "execution_count": 5,
   "id": "b47c9082",
   "metadata": {},
   "outputs": [
    {
     "data": {
      "text/plain": [
       "-1"
      ]
     },
     "execution_count": 5,
     "metadata": {},
     "output_type": "execute_result"
    }
   ],
   "source": [
    "# cv2.cvtColor(source, color_code, )\n",
    "\n",
    "gray = cv2.cvtColor(img, cv2.COLOR_BGR2GRAY)\n",
    "cv2.imshow('GRAY', gray)\n",
    "cv2.waitKey(0)"
   ]
  },
  {
   "cell_type": "markdown",
   "id": "2e479676",
   "metadata": {},
   "source": [
    "# How to blur image"
   ]
  },
  {
   "cell_type": "code",
   "execution_count": 7,
   "id": "37392f65",
   "metadata": {},
   "outputs": [
    {
     "data": {
      "text/plain": [
       "-1"
      ]
     },
     "execution_count": 7,
     "metadata": {},
     "output_type": "execute_result"
    }
   ],
   "source": [
    "'''\n",
    "cv2.GaussianBlur(source, Ksize, sigmaX, dst = None, borderType = None)\n",
    "Ksize---> Kernel size ----> 2x2 tuple (window size that openCV uses to blur the image)\n",
    "'''\n",
    "\n",
    "img = cv2.imread('G:/New folder/john.jpg')\n",
    "cv2.imshow('Original',img)\n",
    "blur = cv2.GaussianBlur(img, (3,3), cv2.BORDER_DEFAULT)          # To increase blurness, increase kernel size (7,7)\n",
    "cv2.imshow('BLUR', blur)\n",
    "cv2.waitKey(0)"
   ]
  },
  {
   "cell_type": "markdown",
   "id": "e71bb076",
   "metadata": {},
   "source": [
    "# How to create Edge Cascade"
   ]
  },
  {
   "cell_type": "code",
   "execution_count": 9,
   "id": "9b957904",
   "metadata": {},
   "outputs": [
    {
     "data": {
      "text/plain": [
       "-1"
      ]
     },
     "execution_count": 9,
     "metadata": {},
     "output_type": "execute_result"
    }
   ],
   "source": [
    "# We are using canny edge detector-------- Involves blurring, griding\n",
    "'''Canny(image, threshold1, threshold2, edges=None, L2gradient=None)'''\n",
    "\n",
    "img = cv2.imread('G:/New folder/Palace.jpg')\n",
    "canny = cv2.Canny(img, 125,175)\n",
    "cv2.imshow('Canny edges', canny)\n",
    "cv2.waitKey(0)"
   ]
  },
  {
   "cell_type": "markdown",
   "id": "abd7489d",
   "metadata": {},
   "source": [
    "# We can reduce the edges by simply blurring the image"
   ]
  },
  {
   "cell_type": "code",
   "execution_count": 11,
   "id": "f35f7592",
   "metadata": {},
   "outputs": [
    {
     "data": {
      "text/plain": [
       "-1"
      ]
     },
     "execution_count": 11,
     "metadata": {},
     "output_type": "execute_result"
    }
   ],
   "source": [
    "\n",
    "img = cv2.imread('G:/New folder/Palace.jpg')\n",
    "blur = cv2.GaussianBlur(img, (9,9), cv2.BORDER_DEFAULT) \n",
    "canny = cv2.Canny(img, 125,175)\n",
    "cv2.imshow('Canny edges', canny)\n",
    "cv2.waitKey(0)"
   ]
  },
  {
   "cell_type": "markdown",
   "id": "c107852f",
   "metadata": {},
   "source": [
    "# Dilating Image "
   ]
  },
  {
   "cell_type": "code",
   "execution_count": 12,
   "id": "ed380b55",
   "metadata": {},
   "outputs": [
    {
     "data": {
      "text/plain": [
       "-1"
      ]
     },
     "execution_count": 12,
     "metadata": {},
     "output_type": "execute_result"
    }
   ],
   "source": [
    "'''How to dilate an image using specific structuring element -----canny\n",
    "dilate(src, Kernel, dst=None, anchor = None, iterations = None, borderType = None, borderType = None)\n",
    "'''\n",
    "\n",
    "img = cv2.imread('G:/New folder/Palace.jpg')\n",
    "canny = cv2.Canny(img, 125,175)\n",
    "dilated = cv2.dilate(canny, (3,3), iterations = 5)\n",
    "cv2.imshow('Dileted', dilated)\n",
    "cv2.waitKey(0)"
   ]
  },
  {
   "cell_type": "markdown",
   "id": "d0db75d4",
   "metadata": {},
   "source": [
    "# Eroding"
   ]
  },
  {
   "cell_type": "code",
   "execution_count": 15,
   "id": "68ea76c3",
   "metadata": {},
   "outputs": [
    {
     "data": {
      "text/plain": [
       "-1"
      ]
     },
     "execution_count": 15,
     "metadata": {},
     "output_type": "execute_result"
    }
   ],
   "source": [
    "'''\n",
    "There is way of eroding this dilated imageto get back this structuring element\n",
    "erode(src, Kernelq, dst = None, iterations = None, borderType = None, borderType = None)\n",
    "'''\n",
    "\n",
    "eroded = cv2.erode(dilated, (3,3), iterations = 9)\n",
    "cv2.imshow('Eroded', eroded)\n",
    "cv2.waitKey(0)"
   ]
  },
  {
   "cell_type": "markdown",
   "id": "863b3220",
   "metadata": {},
   "source": [
    "# How to resize and Crop the image"
   ]
  },
  {
   "cell_type": "code",
   "execution_count": 21,
   "id": "b2894784",
   "metadata": {},
   "outputs": [
    {
     "data": {
      "text/plain": [
       "-1"
      ]
     },
     "execution_count": 21,
     "metadata": {},
     "output_type": "execute_result"
    }
   ],
   "source": [
    "'''\n",
    "resize(src, dsize, dst = None, fx = None, fy = None, interpolation = None)      \n",
    "dsize----> destination size\n",
    "'''\n",
    "\n",
    "resized = cv2.resize(img, (500,500), interpolation = cv2.INTER_CUBIC)\n",
    "cv2.imshow('Resized', resized)\n",
    "cv2.waitKey(0)"
   ]
  },
  {
   "cell_type": "markdown",
   "id": "de98ddad",
   "metadata": {},
   "source": [
    "# Cropping"
   ]
  },
  {
   "cell_type": "code",
   "execution_count": 24,
   "id": "c2eb1e6c",
   "metadata": {},
   "outputs": [
    {
     "data": {
      "text/plain": [
       "-1"
      ]
     },
     "execution_count": 24,
     "metadata": {},
     "output_type": "execute_result"
    }
   ],
   "source": [
    "# We can do array slicing of pixels\n",
    "\n",
    "cropped = img[50:200, 200:400]              # we are selecting the region on the image\n",
    "cv2.imshow('Cropped', cropped)\n",
    "cv2.waitKey(0)"
   ]
  },
  {
   "cell_type": "code",
   "execution_count": null,
   "id": "e117f645",
   "metadata": {},
   "outputs": [],
   "source": []
  }
 ],
 "metadata": {
  "kernelspec": {
   "display_name": "Python 3 (ipykernel)",
   "language": "python",
   "name": "python3"
  },
  "language_info": {
   "codemirror_mode": {
    "name": "ipython",
    "version": 3
   },
   "file_extension": ".py",
   "mimetype": "text/x-python",
   "name": "python",
   "nbconvert_exporter": "python",
   "pygments_lexer": "ipython3",
   "version": "3.8.12"
  }
 },
 "nbformat": 4,
 "nbformat_minor": 5
}
