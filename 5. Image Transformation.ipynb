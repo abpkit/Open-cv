{
 "cells": [
  {
   "cell_type": "code",
   "execution_count": 2,
   "id": "38085eb4",
   "metadata": {},
   "outputs": [],
   "source": [
    "import cv2\n",
    "import numpy as np"
   ]
  },
  {
   "cell_type": "code",
   "execution_count": null,
   "id": "cb7889ac",
   "metadata": {},
   "outputs": [],
   "source": []
  },
  {
   "cell_type": "markdown",
   "id": "07f55176",
   "metadata": {},
   "source": [
    "# Translation"
   ]
  },
  {
   "cell_type": "code",
   "execution_count": null,
   "id": "a1e6fc74",
   "metadata": {},
   "outputs": [],
   "source": []
  },
  {
   "cell_type": "code",
   "execution_count": 7,
   "id": "640697ba",
   "metadata": {},
   "outputs": [
    {
     "data": {
      "text/plain": [
       "-1"
      ]
     },
     "execution_count": 7,
     "metadata": {},
     "output_type": "execute_result"
    }
   ],
   "source": [
    "img = cv2.imread('G:/New folder/potter.jpeg')\n",
    "cv2.imshow('Potter',img)\n",
    "cv2.waitKey(0)\n",
    "\n",
    "def translate(img, x, y):              # ---------x, y are the number of pixels u want to shift along x axis & y axis\n",
    "    transMat = np.float32([[1,0,x],[0,1,y]])          # translation matrix\n",
    "    dimensions = (img.shape[1], img.shape[0])      #------> img.shape[1]====> width , img.shape[0] ====> Height\n",
    "    return cv2.warpAffine(img, transMat, dimensions)\n",
    "                 # warpAffine(src, Metrics, dimension size, dst = None, flags=None, borderMode = None, borderValue = None)\n",
    "# if we pass\n",
    "# -x -----> left\n",
    "# +x -----> right\n",
    "# -y -----> up\n",
    "# +y -----> down\n",
    "\n",
    "translated = translate(img, 100, 100)\n",
    "cv2.imshow('Translated',translated)\n",
    "cv2.waitKey(0)"
   ]
  },
  {
   "cell_type": "markdown",
   "id": "66d51c23",
   "metadata": {},
   "source": [
    "# Rotation"
   ]
  },
  {
   "cell_type": "code",
   "execution_count": 14,
   "id": "b8c1df9f",
   "metadata": {},
   "outputs": [
    {
     "data": {
      "text/plain": [
       "-1"
      ]
     },
     "execution_count": 14,
     "metadata": {},
     "output_type": "execute_result"
    }
   ],
   "source": [
    "img = cv2.imread('G:/New folder/potter.jpeg')\n",
    "cv2.imshow('Potter',img)\n",
    "cv2.waitKey(0)\n",
    "\n",
    "def rotate(img, angle, rotPoint= None):\n",
    "    (height, width) = img.shape[:2]         #-----1st 2 values\n",
    "    \n",
    "    if rotPoint is None:                 # If rotation point is none then assum to rotate the image around centre\n",
    "        rotPoint = (width//2, height//2)    # Rotation point coordinates\n",
    "    \n",
    "    rotMat = cv2.getRotationMatrix2D(rotPoint, angle, 1.0)     # getRotationMartix2D(centre, angle, scale)\n",
    "    dimensions = (width, height)\n",
    "    \n",
    "    return cv2.warpAffine(img, rotMat, dimensions)\n",
    "\n",
    "rotated = rotate(img, 45)                          # for clockwise rotation, -45\n",
    "cv2.imshow('Rotated', rotated)\n",
    "cv2.waitKey(0)"
   ]
  },
  {
   "cell_type": "markdown",
   "id": "8046548f",
   "metadata": {},
   "source": [
    "# Resizing"
   ]
  },
  {
   "cell_type": "code",
   "execution_count": 17,
   "id": "993a0363",
   "metadata": {},
   "outputs": [
    {
     "data": {
      "text/plain": [
       "-1"
      ]
     },
     "execution_count": 17,
     "metadata": {},
     "output_type": "execute_result"
    }
   ],
   "source": [
    "img = cv2.imread('G:/New folder/potter.jpeg')\n",
    "cv2.imshow('Potter',img)\n",
    "cv2.waitKey(0)\n",
    "# resize(src, dimension size, dst = None, fx = None, fy = None, interploation = None)\n",
    "\n",
    "resized = cv2.resize(img,(500,500), interpolation = cv2.INTER_CUBIC)\n",
    "# If u are shrinking the image--->cv2.INTER_AREA\n",
    "# If u are enlarging the image--->cv2.INTER_linear or INTER_CUBIC\n",
    "cv2.imshow('Resized', resized)\n",
    "cv2.waitKey(0)"
   ]
  },
  {
   "cell_type": "markdown",
   "id": "6b23b21f",
   "metadata": {},
   "source": [
    "# Flipping "
   ]
  },
  {
   "cell_type": "code",
   "execution_count": 20,
   "id": "a836dbcc",
   "metadata": {},
   "outputs": [
    {
     "data": {
      "text/plain": [
       "-1"
      ]
     },
     "execution_count": 20,
     "metadata": {},
     "output_type": "execute_result"
    }
   ],
   "source": [
    "# We dont need to create a function for it, we need to create variable\n",
    "# flip(src, flipcode, dst = None)          -----flipcode may be 1,0 or -1\n",
    "# 0===> Flipping image vertically\n",
    "# 1===> Flipping image horizontally\n",
    "# -1===> Flipping image both vertically and vertically\n",
    "\n",
    "flip = cv2.flip(img, -1)\n",
    "cv2.imshow('Flip', flip)\n",
    "cv2.waitKey(0)"
   ]
  }
 ],
 "metadata": {
  "kernelspec": {
   "display_name": "Python 3 (ipykernel)",
   "language": "python",
   "name": "python3"
  },
  "language_info": {
   "codemirror_mode": {
    "name": "ipython",
    "version": 3
   },
   "file_extension": ".py",
   "mimetype": "text/x-python",
   "name": "python",
   "nbconvert_exporter": "python",
   "pygments_lexer": "ipython3",
   "version": "3.8.12"
  }
 },
 "nbformat": 4,
 "nbformat_minor": 5
}
