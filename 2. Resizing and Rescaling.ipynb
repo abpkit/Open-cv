{
 "cells": [
  {
   "cell_type": "markdown",
   "id": "1d0e7c49",
   "metadata": {},
   "source": [
    "# Images"
   ]
  },
  {
   "cell_type": "code",
   "execution_count": 1,
   "id": "0182ac9d",
   "metadata": {},
   "outputs": [],
   "source": [
    "import cv2"
   ]
  },
  {
   "cell_type": "code",
   "execution_count": 2,
   "id": "38040a41",
   "metadata": {},
   "outputs": [],
   "source": [
    "# To rescale image or video we will create an function\n",
    "def rescaleFrame(frame, scale = 0.75):\n",
    "    width = int(frame.shape[1] * scale)        # These are floating points so converted into int\n",
    "    height = int(frame.shape[0] * scale)\n",
    "    dimensions = (width, height)\n",
    "    return cv2.resize(frame, dimensions, interpolation = cv2.INTER_AREA)\n",
    "\n",
    "# Reading Video\n",
    "capture = cv2.VideoCapture('G:/Redmi Note4/Dil_Hai_Chota_Sa.mp4') \n",
    "\n",
    "while True:\n",
    "    isTrue, frame = capture.read()   \n",
    "    \n",
    "    frame_resized = rescaleFrame(frame)\n",
    "    cv2.imshow('Video', frame)\n",
    "    cv2.imshow('Video_resized', frame_resized)\n",
    "    \n",
    "                                    \n",
    "    if cv2.waitKey(20) & 0xFF==ord('d'): \n",
    "        break\n",
    "\n",
    "capture.release()\n",
    "cv2.destroyAllWindows()"
   ]
  },
  {
   "cell_type": "code",
   "execution_count": null,
   "id": "6aa32d2d",
   "metadata": {},
   "outputs": [],
   "source": []
  }
 ],
 "metadata": {
  "kernelspec": {
   "display_name": "Python 3 (ipykernel)",
   "language": "python",
   "name": "python3"
  },
  "language_info": {
   "codemirror_mode": {
    "name": "ipython",
    "version": 3
   },
   "file_extension": ".py",
   "mimetype": "text/x-python",
   "name": "python",
   "nbconvert_exporter": "python",
   "pygments_lexer": "ipython3",
   "version": "3.8.12"
  }
 },
 "nbformat": 4,
 "nbformat_minor": 5
}
